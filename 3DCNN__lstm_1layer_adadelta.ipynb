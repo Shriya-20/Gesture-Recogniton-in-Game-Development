{
 "cells": [
  {
   "cell_type": "markdown",
   "id": "d24adc37-7a7a-4ec5-82a2-650fb3c6485e",
   "metadata": {},
   "source": [
    "## 4 layers 3d cnn, 2 layer lstm, adadelta, using elu"
   ]
  },
  {
   "cell_type": "code",
   "execution_count": 5,
   "id": "ac2e2297-95ad-41be-ae0b-77cfff02ed7a",
   "metadata": {},
   "outputs": [],
   "source": [
    "from tensorflow.keras.models import Sequential\n",
    "from tensorflow.keras.optimizers import SGD\n",
    "from tensorflow.keras.layers import Conv3D, BatchNormalization, MaxPool3D, Dense, Flatten, Dropout, ConvLSTM2D, LSTM\n",
    "from tensorflow.keras.models import model_from_json"
   ]
  },
  {
   "cell_type": "markdown",
   "id": "d1e182a7-caca-4db5-a633-e2b920131f87",
   "metadata": {},
   "source": [
    "##### importing libraries"
   ]
  },
  {
   "cell_type": "code",
   "execution_count": 6,
   "id": "c0c4ac78-f39e-4058-b5ef-b5c3ccc0adb0",
   "metadata": {},
   "outputs": [],
   "source": [
    "import pandas as pd\n",
    "import numpy as np\n",
    "from glob import glob\n",
    "import skimage.transform\n",
    "from skimage import io\n",
    "from sklearn.preprocessing import OneHotEncoder\n",
    "import joblib\n",
    "\n",
    "import tensorflow as tf"
   ]
  },
  {
   "cell_type": "markdown",
   "id": "d5915de8-4fc6-4fcf-986e-d8f203f2d296",
   "metadata": {},
   "source": [
    "#### Selecting Gestures"
   ]
  },
  {
   "cell_type": "code",
   "execution_count": 7,
   "id": "5fe57116-cc8a-4a0e-b7f0-694dc5d0de66",
   "metadata": {},
   "outputs": [
    {
     "name": "stdout",
     "output_type": "stream",
     "text": [
      "(29819, 2)\n",
      "        id                      labels\n",
      "7   136859                    Thumb Up\n",
      "8    68574               Swiping Right\n",
      "13   20706                  No gesture\n",
      "14   42237                  Thumb Down\n",
      "19  133442  Zooming Out With Full Hand\n",
      "(3640, 2)\n",
      "       id                     labels\n",
      "0    9223                   Thumb Up\n",
      "2   42920               Swiping Left\n",
      "3  106485                 Thumb Down\n",
      "6   35341  Zooming In With Full Hand\n",
      "7   94928              Swiping Right\n",
      "Csvs done\n"
     ]
    }
   ],
   "source": [
    "gesture_list = ['Swiping Right','Swiping Left','Thumb Up','Thumb Down','No gesture','Zooming In With Full Hand','Zooming Out With Full Hand']\n",
    "\n",
    "#train\n",
    "file_prefix = \"new_jester_3DCNN_adadelta\"\n",
    "df = pd.read_csv('./annotations/jester-v1-train.csv',header=None,names=['id','labels'])\n",
    "df = df[df['labels'].isin(gesture_list)]\n",
    "df.to_csv('{}_train.csv'.format(file_prefix),sep=';',index=False)\n",
    "# pd.read_csv('jester-v1-8classes_train.csv',sep=\";\").head()\n",
    "print(df.shape)\n",
    "print(df.head())\n",
    "#val\n",
    "df = pd.read_csv('./annotations/jester-v1-validation.csv',sep=';',header=None,names=['id','labels'])\n",
    "df = df[df['labels'].isin(gesture_list)]\n",
    "df.to_csv('{}_val.csv'.format(file_prefix),sep=';',index=False)\n",
    "print(df.shape)\n",
    "print(df.head())\n",
    "\n",
    "print('Csvs done')\n",
    "\n",
    "class DataGenerator(tf.keras.utils.Sequence):\n",
    "    def __init__(self, file_path, batch_size=2, image_dim=(256,256), frames_count=32, n_channels=1, base_dir='./20bn-jester-v1/', n_classes=27,validation=False):\n",
    "        self.image_dim = image_dim\n",
    "        self.batch_size = batch_size\n",
    "        self.n_channels = n_channels\n",
    "        self.n_classes = n_classes\n",
    "        self.shuffle = True \n",
    "        self.frames_count = frames_count\n",
    "        self.df = pd.read_csv(file_path,sep=\";\")\n",
    "        self.df.id = self.df.id.map(str)\n",
    "        if \"train\" in file_path:\n",
    "            self.encoder = OneHotEncoder(sparse_output=False)\n",
    "            self.encoder.fit(self.df.labels.values[:,None])\n",
    "            joblib.dump(self.encoder,\"{}_encoder_joblib.joblib\".format('_'.join(file_path.split('_')[:-1])))\n",
    "            np.save(\"encoder_classes_{}_npy.npy\".format(n_classes),self.encoder.categories_)\n",
    "        else:\n",
    "            self.encoder = joblib.load(\"{}_encoder_joblib.joblib\".format('_'.join(file_path.split('_')[:-1])))\n",
    "        self.base_dir = base_dir\n",
    "        self.on_epoch_end()\n",
    "\n",
    "    def __len__(self):\n",
    "        ## Decides step_size\n",
    "        return self.df.shape[0] // self.batch_size\n",
    "\n",
    "    def __getitem__(self, index):\n",
    "        'Generate one batch of data'\n",
    "        indexes = self.indexes[index*self.batch_size:(index+1)*self.batch_size]\n",
    "        list_IDs_temp = self.df.loc[indexes,\"id\"].to_list()\n",
    "        X, y = self.__data_generation(indexes)\n",
    "        return X, y \n",
    "\n",
    "    def on_epoch_end(self):\n",
    "        'Updates indexes after each epoch'\n",
    "        self.indexes = np.arange(self.df.shape[0])\n",
    "        np.random.shuffle(self.indexes)\n",
    "\n",
    "    def __data_generation(self, indexes):\n",
    "        X = np.empty((self.batch_size,self.frames_count, *self.image_dim, self.n_channels))\n",
    "        y = np.empty((self.batch_size,1), dtype=str)\n",
    "        y = []\n",
    "        for i, ID in enumerate(indexes):\n",
    "            files_list = self.standardize_frame_count(glob(self.base_dir + self.df.loc[ID,\"id\"] + \"/*.jpg\"),self.df.loc[ID])\n",
    "            for idx,filename in enumerate(files_list):\n",
    "                X[i,idx] = tf.keras.preprocessing.image.img_to_array(tf.keras.preprocessing.image.load_img(filename,color_mode='grayscale',target_size=self.image_dim))\n",
    "            y.append(self.df.loc[ID,\"labels\"])\n",
    "        encoded = self.encoder.transform(np.array(y)[:,None])\n",
    "        return X,encoded\n",
    "        \n",
    "    def standardize_frame_count(self,files,error_check):\n",
    "        shape = len(files)\n",
    "        if shape < self.frames_count:\n",
    "            to_add = self.frames_count - shape\n",
    "            mid  = len(files)//2\n",
    "            dup = [files[mid]]*to_add\n",
    "            files = files[:mid] + dup + files[mid+1:]\n",
    "        elif shape > self.frames_count:\n",
    "            to_remove = (shape - self.frames_count)\n",
    "            to_remove = int(to_remove) if int(to_remove) == to_remove else int(to_remove) + 1\n",
    "            files = files[to_remove:]\n",
    "        return files\n",
    "    \n",
    "params = {'batch_size': 56,\n",
    "          'n_classes': len(gesture_list),\n",
    "          'n_channels': 3,\n",
    "          'image_dim': (32,32)\n",
    "          }\n",
    "\n",
    "# Generators\n",
    "training_generator = DataGenerator(file_path=\"{}_train.csv\".format(file_prefix),**params)\n",
    "validation_generator = DataGenerator(file_path=\"{}_val.csv\".format(file_prefix),**params)\n"
   ]
  },
  {
   "cell_type": "code",
   "execution_count": 4,
   "id": "191712c8-4738-444e-9e47-f99b9570b459",
   "metadata": {},
   "outputs": [],
   "source": [
    "from tensorflow.keras.models import Sequential\n",
    "from tensorflow.keras.optimizers import SGD\n",
    "from tensorflow.keras.layers import Conv3D, BatchNormalization, MaxPool3D, Dense, Flatten, Dropout, ConvLSTM2D, LSTM\n",
    "from tensorflow.keras.models import model_from_json\n",
    "#from keras.optimizers import SGD\n",
    "from tensorflow.keras.losses import CategoricalCrossentropy"
   ]
  },
  {
   "cell_type": "code",
   "execution_count": 9,
   "id": "e9a72375-bc06-4b27-9093-dabbd99f69c4",
   "metadata": {},
   "outputs": [],
   "source": [
    "from tensorflow.keras import mixed_precision\n",
    "mixed_precision.set_global_policy('mixed_float16')"
   ]
  },
  {
   "cell_type": "markdown",
   "id": "b837a5ca-3cb1-43f2-a223-b09d100456f5",
   "metadata": {},
   "source": [
    "#### Creating custom loss function"
   ]
  },
  {
   "cell_type": "code",
   "execution_count": 6,
   "id": "6a5bc7ce-225f-4bc0-8e60-6a1ec04e7e5b",
   "metadata": {},
   "outputs": [],
   "source": [
    "def custom_categorical_crossentropy(y_true, y_pred):\n",
    "    y_pred = tf.clip_by_value(y_pred, 1e-8, 1.0)  # Prevent log(0)\n",
    "    return tf.keras.losses.categorical_crossentropy(y_true, y_pred)\n"
   ]
  },
  {
   "cell_type": "code",
   "execution_count": 3,
   "id": "cf8bf9fb-4a60-4e16-ad6f-fb1aabcc3796",
   "metadata": {},
   "outputs": [],
   "source": [
    "import tensorflow as tf\n",
    "from tensorflow.keras.layers import (\n",
    "    Conv3D, MaxPooling3D, Dropout, Dense, BatchNormalization, \n",
    "    GlobalAveragePooling3D, ConvLSTM2D, Flatten\n",
    ")\n",
    "from tensorflow.keras.models import Sequential, Model\n",
    "from tensorflow.keras.optimizers import Adadelta, SGD, Adam\n",
    "from tensorflow.keras.losses import CategoricalCrossentropy\n",
    "from tensorflow.keras.callbacks import EarlyStopping, LearningRateScheduler\n",
    "from tensorflow.keras.regularizers import l2\n"
   ]
  },
  {
   "cell_type": "code",
   "execution_count": 8,
   "id": "8d712ac1-1dc5-42f0-b3d3-e5bd3d03c671",
   "metadata": {},
   "outputs": [],
   "source": [
    "input_shape = (36, 32, 32, 3)\n",
    "weight_decay = 0.00005"
   ]
  },
  {
   "cell_type": "code",
   "execution_count": 9,
   "id": "0be8ca34-b811-4c3b-a106-bdfaa2f7e7a3",
   "metadata": {},
   "outputs": [
    {
     "name": "stderr",
     "output_type": "stream",
     "text": [
      "2024-10-28 12:14:29.809262: I tensorflow/compiler/xla/stream_executor/cuda/cuda_gpu_executor.cc:995] successful NUMA node read from SysFS had negative value (-1), but there must be at least one NUMA node, so returning NUMA node zero. See more at https://github.com/torvalds/linux/blob/v6.0/Documentation/ABI/testing/sysfs-bus-pci#L344-L355\n",
      "2024-10-28 12:14:29.809447: I tensorflow/compiler/xla/stream_executor/cuda/cuda_gpu_executor.cc:995] successful NUMA node read from SysFS had negative value (-1), but there must be at least one NUMA node, so returning NUMA node zero. See more at https://github.com/torvalds/linux/blob/v6.0/Documentation/ABI/testing/sysfs-bus-pci#L344-L355\n",
      "2024-10-28 12:14:29.809530: I tensorflow/compiler/xla/stream_executor/cuda/cuda_gpu_executor.cc:995] successful NUMA node read from SysFS had negative value (-1), but there must be at least one NUMA node, so returning NUMA node zero. See more at https://github.com/torvalds/linux/blob/v6.0/Documentation/ABI/testing/sysfs-bus-pci#L344-L355\n",
      "2024-10-28 12:14:30.167862: I tensorflow/compiler/xla/stream_executor/cuda/cuda_gpu_executor.cc:995] successful NUMA node read from SysFS had negative value (-1), but there must be at least one NUMA node, so returning NUMA node zero. See more at https://github.com/torvalds/linux/blob/v6.0/Documentation/ABI/testing/sysfs-bus-pci#L344-L355\n",
      "2024-10-28 12:14:30.168016: I tensorflow/compiler/xla/stream_executor/cuda/cuda_gpu_executor.cc:995] successful NUMA node read from SysFS had negative value (-1), but there must be at least one NUMA node, so returning NUMA node zero. See more at https://github.com/torvalds/linux/blob/v6.0/Documentation/ABI/testing/sysfs-bus-pci#L344-L355\n",
      "2024-10-28 12:14:30.168096: I tensorflow/compiler/xla/stream_executor/cuda/cuda_gpu_executor.cc:995] successful NUMA node read from SysFS had negative value (-1), but there must be at least one NUMA node, so returning NUMA node zero. See more at https://github.com/torvalds/linux/blob/v6.0/Documentation/ABI/testing/sysfs-bus-pci#L344-L355\n",
      "2024-10-28 12:14:30.168168: I tensorflow/core/common_runtime/gpu/gpu_device.cc:1639] Created device /job:localhost/replica:0/task:0/device:GPU:0 with 4422 MB memory:  -> device: 0, name: NVIDIA GeForce GTX 1660 Ti, pci bus id: 0000:01:00.0, compute capability: 7.5\n"
     ]
    },
    {
     "name": "stdout",
     "output_type": "stream",
     "text": [
      "Epoch 1/50\n"
     ]
    },
    {
     "name": "stderr",
     "output_type": "stream",
     "text": [
      "/home/mca/anaconda3/envs/dse/lib/python3.8/site-packages/keras/src/backend.py:5562: UserWarning: \"`categorical_crossentropy` received `from_logits=True`, but the `output` argument was produced by a Softmax activation and thus does not represent logits. Was this intended?\n",
      "  output, from_logits = _get_logits(\n",
      "2024-10-28 12:14:34.547912: I tensorflow/compiler/xla/stream_executor/cuda/cuda_dnn.cc:432] Loaded cuDNN version 8600\n",
      "2024-10-28 12:15:08.755738: I tensorflow/compiler/xla/service/service.cc:168] XLA service 0x7f0f6f1fcd90 initialized for platform CUDA (this does not guarantee that XLA will be used). Devices:\n",
      "2024-10-28 12:15:08.755760: I tensorflow/compiler/xla/service/service.cc:176]   StreamExecutor device (0): NVIDIA GeForce GTX 1660 Ti, Compute Capability 7.5\n",
      "2024-10-28 12:15:08.759852: I tensorflow/compiler/mlir/tensorflow/utils/dump_mlir_util.cc:255] disabling MLIR crash reproducer, set env var `MLIR_CRASH_REPRODUCER_DIRECTORY` to enable.\n",
      "2024-10-28 12:15:08.823799: I ./tensorflow/compiler/jit/device_compiler.h:186] Compiled cluster using XLA!  This line is logged at most once for the lifetime of the process.\n"
     ]
    },
    {
     "name": "stdout",
     "output_type": "stream",
     "text": [
      "532/532 [==============================] - ETA: 0s - loss: 0.9542 - accuracy: 0.6485"
     ]
    },
    {
     "name": "stderr",
     "output_type": "stream",
     "text": [
      "/home/mca/anaconda3/envs/dse/lib/python3.8/site-packages/keras/src/backend.py:5562: UserWarning: \"`categorical_crossentropy` received `from_logits=True`, but the `output` argument was produced by a Softmax activation and thus does not represent logits. Was this intended?\n",
      "  output, from_logits = _get_logits(\n"
     ]
    },
    {
     "name": "stdout",
     "output_type": "stream",
     "text": [
      "532/532 [==============================] - 233s 365ms/step - loss: 0.9542 - accuracy: 0.6485 - val_loss: 0.7619 - val_accuracy: 0.7294\n",
      "Epoch 2/50\n",
      "532/532 [==============================] - 166s 313ms/step - loss: 0.5366 - accuracy: 0.8271 - val_loss: 0.5631 - val_accuracy: 0.8025\n",
      "Epoch 3/50\n",
      "532/532 [==============================] - 163s 305ms/step - loss: 0.3892 - accuracy: 0.8786 - val_loss: 0.4737 - val_accuracy: 0.8527\n",
      "Epoch 4/50\n",
      "532/532 [==============================] - 157s 296ms/step - loss: 0.3052 - accuracy: 0.9105 - val_loss: 0.3474 - val_accuracy: 0.8934\n",
      "Epoch 5/50\n",
      "532/532 [==============================] - 160s 300ms/step - loss: 0.2454 - accuracy: 0.9296 - val_loss: 0.4072 - val_accuracy: 0.8694\n",
      "Epoch 6/50\n",
      "532/532 [==============================] - 162s 304ms/step - loss: 0.1978 - accuracy: 0.9459 - val_loss: 0.3712 - val_accuracy: 0.8895\n",
      "Epoch 7/50\n",
      "532/532 [==============================] - 160s 300ms/step - loss: 0.1568 - accuracy: 0.9587 - val_loss: 0.3103 - val_accuracy: 0.9090\n",
      "Epoch 8/50\n",
      "532/532 [==============================] - 165s 310ms/step - loss: 0.1316 - accuracy: 0.9674 - val_loss: 0.3390 - val_accuracy: 0.9107\n",
      "Epoch 9/50\n",
      "532/532 [==============================] - 164s 308ms/step - loss: 0.1072 - accuracy: 0.9749 - val_loss: 0.4053 - val_accuracy: 0.8940\n",
      "Epoch 10/50\n",
      "532/532 [==============================] - 163s 306ms/step - loss: 0.0922 - accuracy: 0.9783 - val_loss: 0.5417 - val_accuracy: 0.8616\n",
      "Epoch 11/50\n",
      "532/532 [==============================] - 163s 305ms/step - loss: 0.0742 - accuracy: 0.9850 - val_loss: 0.4054 - val_accuracy: 0.8984\n",
      "Epoch 12/50\n",
      "532/532 [==============================] - 163s 307ms/step - loss: 0.0607 - accuracy: 0.9879 - val_loss: 0.3930 - val_accuracy: 0.8979\n"
     ]
    }
   ],
   "source": [
    "def build_model(n_classes=7):\n",
    "    momentum = 0.99\n",
    "    \n",
    "    model = Sequential()\n",
    "    model.add(Conv3D(36, kernel_size=3, strides=1, padding='same', activation='elu', input_shape=input_shape))\n",
    "    model.add(BatchNormalization(momentum=momentum))\n",
    "    model.add(MaxPooling3D(pool_size=(1, 2, 2), strides=(1, 2, 2)))\n",
    "\n",
    "    model.add(Conv3D(64, kernel_size=3, strides=1, padding='same', activation='elu'))\n",
    "    model.add(BatchNormalization(momentum=momentum))\n",
    "    model.add(MaxPooling3D(pool_size=(2, 2, 2), strides=(2, 2, 2)))\n",
    "\n",
    "    model.add(Conv3D(64, kernel_size=3, strides=1, padding='same', activation='elu'))\n",
    "    model.add(BatchNormalization(momentum=momentum))\n",
    "    model.add(MaxPooling3D(pool_size=(2, 2, 2), strides=(2, 2, 2)))\n",
    "\n",
    "    model.add(Conv3D(64, kernel_size=3, strides=1, padding='same', activation='elu'))\n",
    "    model.add(BatchNormalization(momentum=momentum))\n",
    "    model.add(MaxPooling3D(pool_size=(2, 2, 2), strides=(2, 2, 2)))\n",
    "\n",
    "    model.add(ConvLSTM2D(filters=64, kernel_size=(3, 3),\n",
    "                         padding='same', return_sequences=True))\n",
    "    model.add(BatchNormalization())\n",
    "    model.add(Dropout(0.3))  # Added Dropout after ConvLSTM layer\n",
    "    \n",
    "    model.add(ConvLSTM2D(filters=64, kernel_size=(3, 3),\n",
    "                         padding='same', return_sequences=True))\n",
    "    model.add(BatchNormalization())\n",
    "\n",
    "    model.add(GlobalAveragePooling3D())\n",
    "    model.add(Dropout(0.3))  # Reduced dropout rate\n",
    "    model.add(Dense(n_classes, activation='softmax', kernel_regularizer=l2(0.01)))\n",
    "\n",
    "    return model\n",
    "\n",
    "# Building and compile the model\n",
    "model = build_model(n_classes=len(gesture_list))\n",
    "optimizer = Adadelta(learning_rate=1.0)  # You can adjust the learning rate as needed\n",
    "\n",
    "model.compile(\n",
    "    optimizer=optimizer,\n",
    "    loss=CategoricalCrossentropy(from_logits=True),  # Set from_logits=False for softmax activation\n",
    "    metrics=['accuracy']\n",
    ")\n",
    "\n",
    "# Define EarlyStopping callback\n",
    "early_stopping = EarlyStopping(monitor='val_loss', patience=5, restore_best_weights=True)\n",
    "\n",
    "# Train the model with EarlyStopping\n",
    "h = model.fit(\n",
    "    training_generator,\n",
    "    validation_data=validation_generator,\n",
    "    validation_steps=32,\n",
    "    epochs=50,\n",
    "    verbose=1,\n",
    "    callbacks=[early_stopping]\n",
    ")\n",
    "\n",
    "# Save the model\n",
    "def save_model(model, file_path):\n",
    "    model_json = model.to_json()\n",
    "    with open(file_path + '.json', \"w\") as json_file:\n",
    "        json_file.write(model_json)\n",
    "    model.save_weights(file_path + '.h5')\n",
    "\n",
    "save_model(model, '{}_model'.format(file_prefix))"
   ]
  },
  {
   "cell_type": "code",
   "execution_count": 10,
   "id": "89f30781-20e0-4c49-9587-53fc9c5e5e55",
   "metadata": {},
   "outputs": [
    {
     "data": {
      "image/png": "[encoded data removed]",
      "text/plain": [
       "<Figure size 1200x500 with 2 Axes>"
      ]
     },
     "metadata": {},
     "output_type": "display_data"
    }
   ],
   "source": [
    "import matplotlib.pyplot as plt  \n",
    "\n",
    "# Plot training & validation accuracy values\n",
    "plt.figure(figsize=(12, 5))\n",
    "plt.subplot(1, 2, 1)\n",
    "plt.plot(h.history['accuracy'])\n",
    "plt.plot(h.history['val_accuracy'])\n",
    "plt.title('Model accuracy')\n",
    "plt.xlabel('Epoch')\n",
    "plt.ylabel('Accuracy')\n",
    "plt.legend(['Train', 'Validation'])\n",
    "\n",
    "# Plot training & validation loss values\n",
    "plt.subplot(1, 2, 2)\n",
    "plt.plot(h.history['loss'])\n",
    "plt.plot(h.history['val_loss'])\n",
    "plt.title('Model loss')\n",
    "plt.xlabel('Epoch')\n",
    "plt.ylabel('Loss')\n",
    "plt.legend(['Train', 'Validation'])\n",
    "\n",
    "plt.tight_layout()\n",
    "plt.show()"
   ]
  },
  {
   "cell_type": "code",
   "execution_count": 12,
   "id": "a095d14e-b306-4084-9fe6-e5d8617c6216",
   "metadata": {},
   "outputs": [
    {
     "name": "stdout",
     "output_type": "stream",
     "text": [
      "65/65 [==============================] - 19s 290ms/step - loss: 0.3397 - accuracy: 0.9055\n"
     ]
    },
    {
     "data": {
      "text/plain": [
       "[0.3396732807159424, 0.9054945111274719]"
      ]
     },
     "execution_count": 12,
     "metadata": {},
     "output_type": "execute_result"
    }
   ],
   "source": [
    "model.evaluate(validation_generator)\n"
   ]
  },
  {
   "cell_type": "markdown",
   "id": "27444da6-6d08-4fe7-97fd-859637030897",
   "metadata": {},
   "source": [
    "- ####  best accuracy"
   ]
  }
 ],
 "metadata": {
  "kernelspec": {
   "display_name": "Python 3 (ipykernel)",
   "language": "python",
   "name": "python3"
  },
  "language_info": {
   "codemirror_mode": {
    "name": "ipython",
    "version": 3
   },
   "file_extension": ".py",
   "mimetype": "text/x-python",
   "name": "python",
   "nbconvert_exporter": "python",
   "pygments_lexer": "ipython3",
   "version": "3.11.4"
  }
 },
 "nbformat": 4,
 "nbformat_minor": 5
}
