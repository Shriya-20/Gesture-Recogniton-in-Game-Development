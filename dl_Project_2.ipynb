{
 "cells": [
  {
   "cell_type": "raw",
   "id": "10a6281b-6f9a-4860-aaf7-20a6748cf443",
   "metadata": {},
   "source": [
    "Name : Shriya Bhat\n",
    "Registration number: 220968020"
   ]
  },
  {
   "cell_type": "markdown",
   "id": "bea90f67-2ceb-4966-b0a5-a259b3fcd516",
   "metadata": {},
   "source": [
    "- Load and filter annotations.\n",
    "- Create a directory structure for preprocessed data.\n",
    "- Copy and rename frames based on their labels.\n",
    "- (Optional) Apply data augmentation.\n",
    "- Create a data generator for batch processing.\n",
    "- Define and train your model."
   ]
  },
  {
   "cell_type": "code",
   "execution_count": 1,
   "id": "9df99169-ad93-4c69-a722-6b69973678bc",
   "metadata": {},
   "outputs": [
    {
     "name": "stderr",
     "output_type": "stream",
     "text": [
      "2024-09-30 11:21:00.755503: I tensorflow/core/util/port.cc:110] oneDNN custom operations are on. You may see slightly different numerical results due to floating-point round-off errors from different computation orders. To turn them off, set the environment variable `TF_ENABLE_ONEDNN_OPTS=0`.\n",
      "2024-09-30 11:21:00.783601: I tensorflow/core/platform/cpu_feature_guard.cc:182] This TensorFlow binary is optimized to use available CPU instructions in performance-critical operations.\n",
      "To enable the following instructions: AVX2 AVX_VNNI FMA, in other operations, rebuild TensorFlow with the appropriate compiler flags.\n",
      "2024-09-30 11:21:01.222752: W tensorflow/compiler/tf2tensorrt/utils/py_utils.cc:38] TF-TRT Warning: Could not find TensorRT\n"
     ]
    }
   ],
   "source": [
    "import pandas as pd\n",
    "import numpy as np\n",
    "from glob import glob\n",
    "import skimage.transform\n",
    "from skimage import io\n",
    "from sklearn.preprocessing import OneHotEncoder\n",
    "import joblib\n",
    "\n",
    "import tensorflow as tf"
   ]
  },
  {
   "cell_type": "markdown",
   "id": "d5e2e26e-6909-4209-b87b-e1b7ce3b070a",
   "metadata": {},
   "source": [
    "####  Selecting Gestures"
   ]
  },
  {
   "cell_type": "code",
   "execution_count": 69,
   "id": "6299e466-4539-4bc0-b196-da4a805e7ac6",
   "metadata": {},
   "outputs": [],
   "source": [
    "gesture_list = ['Thumb Up','Thumb Down','No gesture','Swiping Right','Swiping Left','Zooming In With Full Hand']"
   ]
  },
  {
   "cell_type": "markdown",
   "id": "a30a730e-53ab-4a15-ac0e-ee9953d5f48c",
   "metadata": {},
   "source": [
    "#### Train Data (based on chosen gestures)\n",
    "- Making a new csv file, `new_jester_train.csv` which contains chosen labels (training data)\n",
    "\n",
    "#### Validation Data\n",
    "- Making a new csv file, `new_jester_val.csv` for our chosen labels (validation data)"
   ]
  },
  {
   "cell_type": "code",
   "execution_count": 70,
   "id": "816490b1-bc42-4219-89d0-4951e34e7afe",
   "metadata": {},
   "outputs": [],
   "source": [
    "# Train data\n",
    "file_prefix = \"new_jester\"\n",
    "df = pd.read_csv('./annotations/jester-v1-train.csv',header=None,names=['id','labels']) #no ; separator present in train data\n",
    "df = df[df['labels'].isin(gesture_list)]\n",
    "df.to_csv('{}_train.csv'.format(file_prefix),sep=';',index=False)"
   ]
  },
  {
   "cell_type": "code",
   "execution_count": 71,
   "id": "02308b6f-0d1d-4488-b0ae-a7c2ccc77e43",
   "metadata": {},
   "outputs": [
    {
     "data": {
      "text/plain": [
       "(25538, 2)"
      ]
     },
     "execution_count": 71,
     "metadata": {},
     "output_type": "execute_result"
    }
   ],
   "source": [
    "df.shape"
   ]
  },
  {
   "cell_type": "code",
   "execution_count": 72,
   "id": "2dcf6da7-4663-4683-a882-ddf30090a063",
   "metadata": {},
   "outputs": [
    {
     "data": {
      "text/html": [
       "<div>\n",
       "<style scoped>\n",
       "    .dataframe tbody tr th:only-of-type {\n",
       "        vertical-align: middle;\n",
       "    }\n",
       "\n",
       "    .dataframe tbody tr th {\n",
       "        vertical-align: top;\n",
       "    }\n",
       "\n",
       "    .dataframe thead th {\n",
       "        text-align: right;\n",
       "    }\n",
       "</style>\n",
       "<table border=\"1\" class=\"dataframe\">\n",
       "  <thead>\n",
       "    <tr style=\"text-align: right;\">\n",
       "      <th></th>\n",
       "      <th>id</th>\n",
       "      <th>labels</th>\n",
       "    </tr>\n",
       "  </thead>\n",
       "  <tbody>\n",
       "    <tr>\n",
       "      <th>7</th>\n",
       "      <td>136859</td>\n",
       "      <td>Thumb Up</td>\n",
       "    </tr>\n",
       "    <tr>\n",
       "      <th>8</th>\n",
       "      <td>68574</td>\n",
       "      <td>Swiping Right</td>\n",
       "    </tr>\n",
       "    <tr>\n",
       "      <th>13</th>\n",
       "      <td>20706</td>\n",
       "      <td>No gesture</td>\n",
       "    </tr>\n",
       "    <tr>\n",
       "      <th>14</th>\n",
       "      <td>42237</td>\n",
       "      <td>Thumb Down</td>\n",
       "    </tr>\n",
       "    <tr>\n",
       "      <th>22</th>\n",
       "      <td>94060</td>\n",
       "      <td>Thumb Down</td>\n",
       "    </tr>\n",
       "  </tbody>\n",
       "</table>\n",
       "</div>"
      ],
      "text/plain": [
       "        id         labels\n",
       "7   136859       Thumb Up\n",
       "8    68574  Swiping Right\n",
       "13   20706     No gesture\n",
       "14   42237     Thumb Down\n",
       "22   94060     Thumb Down"
      ]
     },
     "execution_count": 72,
     "metadata": {},
     "output_type": "execute_result"
    }
   ],
   "source": [
    "df.head()"
   ]
  },
  {
   "cell_type": "code",
   "execution_count": 73,
   "id": "0b589ffe-9be4-4ca0-a66a-0d6957eeb2da",
   "metadata": {},
   "outputs": [
    {
     "name": "stdout",
     "output_type": "stream",
     "text": [
      "<class 'pandas.core.frame.DataFrame'>\n",
      "Index: 25538 entries, 7 to 118560\n",
      "Data columns (total 2 columns):\n",
      " #   Column  Non-Null Count  Dtype \n",
      "---  ------  --------------  ----- \n",
      " 0   id      25538 non-null  object\n",
      " 1   labels  25538 non-null  object\n",
      "dtypes: object(2)\n",
      "memory usage: 598.5+ KB\n"
     ]
    }
   ],
   "source": [
    "df.info()"
   ]
  },
  {
   "cell_type": "code",
   "execution_count": 74,
   "id": "e3d786bb-893a-43a6-8a69-9f1f2ec13941",
   "metadata": {},
   "outputs": [
    {
     "data": {
      "text/html": [
       "<div>\n",
       "<style scoped>\n",
       "    .dataframe tbody tr th:only-of-type {\n",
       "        vertical-align: middle;\n",
       "    }\n",
       "\n",
       "    .dataframe tbody tr th {\n",
       "        vertical-align: top;\n",
       "    }\n",
       "\n",
       "    .dataframe thead th {\n",
       "        text-align: right;\n",
       "    }\n",
       "</style>\n",
       "<table border=\"1\" class=\"dataframe\">\n",
       "  <thead>\n",
       "    <tr style=\"text-align: right;\">\n",
       "      <th></th>\n",
       "      <th>labels</th>\n",
       "      <th>count</th>\n",
       "    </tr>\n",
       "  </thead>\n",
       "  <tbody>\n",
       "    <tr>\n",
       "      <th>0</th>\n",
       "      <td>Thumb Down</td>\n",
       "      <td>4390</td>\n",
       "    </tr>\n",
       "    <tr>\n",
       "      <th>1</th>\n",
       "      <td>Thumb Up</td>\n",
       "      <td>4373</td>\n",
       "    </tr>\n",
       "    <tr>\n",
       "      <th>2</th>\n",
       "      <td>No gesture</td>\n",
       "      <td>4278</td>\n",
       "    </tr>\n",
       "    <tr>\n",
       "      <th>3</th>\n",
       "      <td>Zooming In With Full Hand</td>\n",
       "      <td>4251</td>\n",
       "    </tr>\n",
       "    <tr>\n",
       "      <th>4</th>\n",
       "      <td>Swiping Left</td>\n",
       "      <td>4162</td>\n",
       "    </tr>\n",
       "    <tr>\n",
       "      <th>5</th>\n",
       "      <td>Swiping Right</td>\n",
       "      <td>4084</td>\n",
       "    </tr>\n",
       "  </tbody>\n",
       "</table>\n",
       "</div>"
      ],
      "text/plain": [
       "                      labels  count\n",
       "0                 Thumb Down   4390\n",
       "1                   Thumb Up   4373\n",
       "2                 No gesture   4278\n",
       "3  Zooming In With Full Hand   4251\n",
       "4               Swiping Left   4162\n",
       "5              Swiping Right   4084"
      ]
     },
     "execution_count": 74,
     "metadata": {},
     "output_type": "execute_result"
    }
   ],
   "source": [
    "df['labels'].value_counts().reset_index()"
   ]
  },
  {
   "cell_type": "markdown",
   "id": "d8106c2e-d482-4133-9a0b-4e24325674d6",
   "metadata": {},
   "source": [
    "### We see that the dataset is balanced"
   ]
  },
  {
   "cell_type": "code",
   "execution_count": 75,
   "id": "c9f545a0-9364-4f81-a96f-a8f3e150705e",
   "metadata": {},
   "outputs": [],
   "source": [
    "#df.isnull().sum()\n",
    "df = df.dropna()\n",
    "df = df.drop_duplicates()\n",
    "#removing leading/trailing spaces\n",
    "df['labels'] = df['labels'].str.strip()"
   ]
  },
  {
   "cell_type": "markdown",
   "id": "ffb35c6f-7d0f-4c21-8773-8dbaa304b3f2",
   "metadata": {},
   "source": [
    "#### Reads the training annotations from a CSV file, filters the gestures based on gesture_list, and saves the filtered data to a new CSV file."
   ]
  },
  {
   "cell_type": "markdown",
   "id": "ef0db634-4448-4bba-bac6-33929eff06c4",
   "metadata": {},
   "source": [
    "#### similarly, processing the validation annotations"
   ]
  },
  {
   "cell_type": "code",
   "execution_count": 76,
   "id": "142944ab-74e6-444c-868d-cd50a426d8e6",
   "metadata": {},
   "outputs": [
    {
     "name": "stdout",
     "output_type": "stream",
     "text": [
      "(3114, 2)\n",
      "       id                     labels\n",
      "0    9223                   Thumb Up\n",
      "2   42920               Swiping Left\n",
      "3  106485                 Thumb Down\n",
      "6   35341  Zooming In With Full Hand\n",
      "7   94928              Swiping Right\n"
     ]
    }
   ],
   "source": [
    "# Validation data\n",
    "df = pd.read_csv('./annotations/jester-v1-validation.csv',sep=';',header=None,names=['id','labels']) # ; separator \n",
    "df = df[df['labels'].isin(gesture_list)]\n",
    "df.to_csv('{}_val.csv'.format(file_prefix),sep=';',index=False)\n",
    "print(df.shape)\n",
    "print(df.head())"
   ]
  },
  {
   "cell_type": "code",
   "execution_count": 77,
   "id": "ae77e62f-65b7-40e0-84d2-45aa009e7331",
   "metadata": {},
   "outputs": [],
   "source": [
    "#df.isnull().sum()\n",
    "df = df.dropna()\n",
    "df = df.drop_duplicates()\n",
    "#removing leading/trailing spaces\n",
    "df['labels'] = df['labels'].str.strip()"
   ]
  },
  {
   "cell_type": "code",
   "execution_count": 78,
   "id": "5518b11e-b48d-4ac4-b639-5d33e9b5236c",
   "metadata": {},
   "outputs": [
    {
     "data": {
      "text/plain": [
       "(3114, 2)"
      ]
     },
     "execution_count": 78,
     "metadata": {},
     "output_type": "execute_result"
    }
   ],
   "source": [
    "df.shape"
   ]
  },
  {
   "cell_type": "code",
   "execution_count": 79,
   "id": "2ef6ae62-9c56-4e35-b300-aabc6578d133",
   "metadata": {},
   "outputs": [
    {
     "data": {
      "text/html": [
       "<div>\n",
       "<style scoped>\n",
       "    .dataframe tbody tr th:only-of-type {\n",
       "        vertical-align: middle;\n",
       "    }\n",
       "\n",
       "    .dataframe tbody tr th {\n",
       "        vertical-align: top;\n",
       "    }\n",
       "\n",
       "    .dataframe thead th {\n",
       "        text-align: right;\n",
       "    }\n",
       "</style>\n",
       "<table border=\"1\" class=\"dataframe\">\n",
       "  <thead>\n",
       "    <tr style=\"text-align: right;\">\n",
       "      <th></th>\n",
       "      <th>id</th>\n",
       "      <th>labels</th>\n",
       "    </tr>\n",
       "  </thead>\n",
       "  <tbody>\n",
       "    <tr>\n",
       "      <th>0</th>\n",
       "      <td>9223</td>\n",
       "      <td>Thumb Up</td>\n",
       "    </tr>\n",
       "    <tr>\n",
       "      <th>2</th>\n",
       "      <td>42920</td>\n",
       "      <td>Swiping Left</td>\n",
       "    </tr>\n",
       "    <tr>\n",
       "      <th>3</th>\n",
       "      <td>106485</td>\n",
       "      <td>Thumb Down</td>\n",
       "    </tr>\n",
       "    <tr>\n",
       "      <th>6</th>\n",
       "      <td>35341</td>\n",
       "      <td>Zooming In With Full Hand</td>\n",
       "    </tr>\n",
       "    <tr>\n",
       "      <th>7</th>\n",
       "      <td>94928</td>\n",
       "      <td>Swiping Right</td>\n",
       "    </tr>\n",
       "  </tbody>\n",
       "</table>\n",
       "</div>"
      ],
      "text/plain": [
       "       id                     labels\n",
       "0    9223                   Thumb Up\n",
       "2   42920               Swiping Left\n",
       "3  106485                 Thumb Down\n",
       "6   35341  Zooming In With Full Hand\n",
       "7   94928              Swiping Right"
      ]
     },
     "execution_count": 79,
     "metadata": {},
     "output_type": "execute_result"
    }
   ],
   "source": [
    "df.head(5)"
   ]
  },
  {
   "cell_type": "markdown",
   "id": "64e23f9d-2f8d-4a10-9097-ab8d1cceb8e8",
   "metadata": {},
   "source": [
    "#### Creating class for Loading and preprocessing video frame data"
   ]
  },
  {
   "cell_type": "code",
   "execution_count": 88,
   "id": "91d79d9a-dacc-4163-b62c-8a58f8eb962f",
   "metadata": {},
   "outputs": [],
   "source": [
    "class DataGenerator(tf.keras.utils.Sequence):\n",
    "    def __init__(self, file_path, batch_size=2, image_dim=(256,256), frames_count=36, n_channels=1, base_dir='./20bn-jester-v1/', n_classes=27,validation=False):\n",
    "        self.image_dim = image_dim\n",
    "        self.batch_size = batch_size\n",
    "        self.n_channels = n_channels\n",
    "        self.n_classes = n_classes\n",
    "        self.shuffle = True \n",
    "        self.frames_count = frames_count\n",
    "        self.df = pd.read_csv(file_path,sep=\";\")\n",
    "        self.df.id = self.df.id.map(str)\n",
    "        if \"train\" in file_path:\n",
    "            self.encoder = OneHotEncoder(sparse=False)\n",
    "            self.encoder.fit(self.df.labels.values[:,None])\n",
    "            joblib.dump(self.encoder,\"{}_encoder_joblib.joblib\".format('_'.join(file_path.split('_')[:-1])))\n",
    "            np.save(\"encoder_classes_{}_npy.npy\".format(n_classes),self.encoder.categories_)\n",
    "        else:\n",
    "            self.encoder = joblib.load(\"{}_encoder_joblib.joblib\".format('_'.join(file_path.split('_')[:-1])))\n",
    "        self.base_dir = base_dir\n",
    "        self.on_epoch_end()\n",
    "        \n",
    "    #Getting length of the Dataset \n",
    "    def __len__(self):\n",
    "        ## Decides step_size\n",
    "        return self.df.shape[0] // self.batch_size\n",
    "\n",
    "    #Getting a Batch of Data\n",
    "    def __getitem__(self, index):\n",
    "        'Generate one batch of data'\n",
    "        indexes = self.indexes[index*self.batch_size:(index+1)*self.batch_size]\n",
    "        list_IDs_temp = self.df.loc[indexes,\"id\"].to_list()\n",
    "        X, y = self.__data_generation(indexes)\n",
    "        return X, y \n",
    "\n",
    "    #End of Epoch Handling (on_epoch_end method)\n",
    "    #Shuffles the order of the data indexes after each epoch to ensure varied training.\n",
    "    def on_epoch_end(self):\n",
    "        'Updates indexes after each epoch'\n",
    "        self.indexes = np.arange(self.df.shape[0])\n",
    "        np.random.shuffle(self.indexes)\n",
    "\n",
    "    \n",
    "    #Data Generation (__data_generation method):\n",
    "\n",
    "    #Initializes empty arrays for the images and labels\n",
    "    #Loads images from disk based on the current batch of IDs\n",
    "    #Resizes and converts images to arrays.\n",
    "    #Encodes the labels using the previously fitted encoder\n",
    "    def __data_generation(self, indexes):\n",
    "        X = np.empty((self.batch_size,self.frames_count, *self.image_dim, self.n_channels))\n",
    "        y = np.empty((self.batch_size,1), dtype=str)\n",
    "        y = []\n",
    "        for i, ID in enumerate(indexes):\n",
    "            files_list = self.standardize_frame_count(glob(self.base_dir + self.df.loc[ID,\"id\"] + \"/*.jpg\"),self.df.loc[ID])\n",
    "            for idx,filename in enumerate(files_list):\n",
    "                X[i,idx] = tf.keras.preprocessing.image.img_to_array(tf.keras.preprocessing.image.load_img(filename,color_mode='grayscale',target_size=self.image_dim))\n",
    "            y.append(self.df.loc[ID,\"labels\"])\n",
    "        encoded = self.encoder.transform(np.array(y)[:,None])\n",
    "        return X,encoded\n",
    "\n",
    "\n",
    "    #Adjusts the number of frames (images) for each video to match frames_count\n",
    "    #If there are fewer frames than needed, duplicates frames from the middle\n",
    "    #If there are more frames than needed, removes excess frames\n",
    "    def standardize_frame_count(self,files,error_check):\n",
    "        shape = len(files)\n",
    "        if shape < self.frames_count:\n",
    "            to_add = self.frames_count - shape\n",
    "            mid  = len(files)//2\n",
    "            dup = [files[mid]]*to_add\n",
    "            files = files[:mid] + dup + files[mid+1:]\n",
    "        elif shape > self.frames_count:\n",
    "            to_remove = (shape - self.frames_count)\n",
    "            to_remove = int(to_remove) if int(to_remove) == to_remove else int(to_remove) + 1\n",
    "            files = files[to_remove:]\n",
    "        return files\n",
    "    "
   ]
  },
  {
   "cell_type": "code",
   "execution_count": 96,
   "id": "2f60e3d8-4bfa-46d3-b90d-042c731dbe82",
   "metadata": {},
   "outputs": [],
   "source": [
    "params = {'batch_size': 56,\n",
    "          'n_classes': len(gesture_list),\n",
    "          'n_channels': 3,\n",
    "          'image_dim': (32,32)\n",
    "          }"
   ]
  },
  {
   "cell_type": "code",
   "execution_count": 97,
   "id": "a229bd1b-5a2b-4767-8ddb-5bdc98b7614d",
   "metadata": {},
   "outputs": [
    {
     "name": "stderr",
     "output_type": "stream",
     "text": [
      "/home/mca/anaconda3/envs/dse/lib/python3.8/site-packages/sklearn/preprocessing/_encoders.py:975: FutureWarning: `sparse` was renamed to `sparse_output` in version 1.2 and will be removed in 1.4. `sparse_output` is ignored unless you leave `sparse` to its default value.\n",
      "  warnings.warn(\n"
     ]
    }
   ],
   "source": [
    "training_generator = DataGenerator(file_path=\"{}_train.csv\".format(file_prefix),**params)\n",
    "validation_generator = DataGenerator(file_path=\"{}_val.csv\".format(file_prefix),**params)\n",
    "#now, use model.fit(training_generator,validation_data=validation_generator,validation_steps=m,epochs=n,verbose=1)"
   ]
  },
  {
   "cell_type": "code",
   "execution_count": null,
   "id": "937be8af-6560-42db-b9c3-830726a62ee5",
   "metadata": {},
   "outputs": [],
   "source": []
  },
  {
   "cell_type": "code",
   "execution_count": null,
   "id": "27efb55b-3a2c-4484-b96a-ebe1d15c0d6a",
   "metadata": {},
   "outputs": [],
   "source": []
  }
 ],
 "metadata": {
  "kernelspec": {
   "display_name": "Python 3 (ipykernel)",
   "language": "python",
   "name": "python3"
  },
  "language_info": {
   "codemirror_mode": {
    "name": "ipython",
    "version": 3
   },
   "file_extension": ".py",
   "mimetype": "text/x-python",
   "name": "python",
   "nbconvert_exporter": "python",
   "pygments_lexer": "ipython3",
   "version": "3.8.19"
  }
 },
 "nbformat": 4,
 "nbformat_minor": 5
}
