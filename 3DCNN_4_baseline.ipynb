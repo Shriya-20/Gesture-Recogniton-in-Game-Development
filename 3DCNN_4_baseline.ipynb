{
 "cells": [
  {
   "cell_type": "code",
   "execution_count": null,
   "id": "00d216be-d9ec-4553-9573-b8b6a28a980d",
   "metadata": {},
   "outputs": [],
   "source": []
  },
  {
   "cell_type": "raw",
   "id": "9cb4e527-900a-401d-9c30-9ff42b9d25d5",
   "metadata": {},
   "source": [
    "from tensorflow.keras.models import model_from_json\n",
    "file_prefix = \"new_jester_3DCNN\"\n",
    "def load_model(file_path):\n",
    "    # Load the model architecture from the JSON file\n",
    "    with open(file_path + '.json', \"r\") as json_file:\n",
    "        model_json = json_file.read()\n",
    "    \n",
    "    model = model_from_json(model_json)\n",
    "    \n",
    "    # Load weights into the model\n",
    "    model.load_weights(file_path + '.h5')\n",
    "    \n",
    "    return model\n",
    "\n",
    "# Usage\n",
    "loaded_model = load_model('{}_model'.format(file_prefix))\n",
    "\n",
    "# Compile the model if needed (especially if you want to evaluate or predict)\n",
    "loaded_model.compile(optimizer='SGD(learning_rate=0.001)', \n",
    "                     loss='categorical_crossentropy', \n",
    "                     metrics=['accuracy'])\n",
    "\n",
    "# You can now use loaded_model for evaluation or predictions\n"
   ]
  },
  {
   "cell_type": "code",
   "execution_count": null,
   "id": "0015860a-e3fb-4fb7-a082-6a68f7aa99a5",
   "metadata": {},
   "outputs": [],
   "source": []
  },
  {
   "cell_type": "code",
   "execution_count": null,
   "id": "8d80cbdc-a7e0-4668-9b48-951cf9f58aa0",
   "metadata": {},
   "outputs": [],
   "source": []
  },
  {
   "cell_type": "code",
   "execution_count": 1,
   "id": "ac2e2297-95ad-41be-ae0b-77cfff02ed7a",
   "metadata": {},
   "outputs": [
    {
     "name": "stderr",
     "output_type": "stream",
     "text": [
      "2024-10-16 15:40:59.846993: I tensorflow/core/util/port.cc:110] oneDNN custom operations are on. You may see slightly different numerical results due to floating-point round-off errors from different computation orders. To turn them off, set the environment variable `TF_ENABLE_ONEDNN_OPTS=0`.\n",
      "2024-10-16 15:40:59.875575: I tensorflow/core/platform/cpu_feature_guard.cc:182] This TensorFlow binary is optimized to use available CPU instructions in performance-critical operations.\n",
      "To enable the following instructions: AVX2 AVX_VNNI FMA, in other operations, rebuild TensorFlow with the appropriate compiler flags.\n",
      "2024-10-16 15:41:00.378901: W tensorflow/compiler/tf2tensorrt/utils/py_utils.cc:38] TF-TRT Warning: Could not find TensorRT\n"
     ]
    }
   ],
   "source": [
    "from tensorflow.keras.models import Sequential\n",
    "from tensorflow.keras.optimizers import SGD\n",
    "from tensorflow.keras.layers import Conv3D, BatchNormalization, MaxPool3D, Dense, Flatten, Dropout, ConvLSTM2D, LSTM\n",
    "from tensorflow.keras.models import model_from_json"
   ]
  },
  {
   "cell_type": "raw",
   "id": "3b816dd0-ff74-4f30-84bd-8cbc1c9653bf",
   "metadata": {},
   "source": [
    "pip install scikit-image"
   ]
  },
  {
   "cell_type": "markdown",
   "id": "d1e182a7-caca-4db5-a633-e2b920131f87",
   "metadata": {},
   "source": [
    "##### importing libraries"
   ]
  },
  {
   "cell_type": "code",
   "execution_count": 2,
   "id": "c0c4ac78-f39e-4058-b5ef-b5c3ccc0adb0",
   "metadata": {},
   "outputs": [],
   "source": [
    "import pandas as pd\n",
    "import numpy as np\n",
    "from glob import glob\n",
    "import skimage.transform\n",
    "from skimage import io\n",
    "from sklearn.preprocessing import OneHotEncoder\n",
    "import joblib\n",
    "\n",
    "import tensorflow as tf"
   ]
  },
  {
   "cell_type": "markdown",
   "id": "d5915de8-4fc6-4fcf-986e-d8f203f2d296",
   "metadata": {},
   "source": [
    "#### Selecting Gestures"
   ]
  },
  {
   "cell_type": "code",
   "execution_count": 3,
   "id": "5fe57116-cc8a-4a0e-b7f0-694dc5d0de66",
   "metadata": {},
   "outputs": [
    {
     "name": "stdout",
     "output_type": "stream",
     "text": [
      "(29819, 2)\n",
      "        id                      labels\n",
      "7   136859                    Thumb Up\n",
      "8    68574               Swiping Right\n",
      "13   20706                  No gesture\n",
      "14   42237                  Thumb Down\n",
      "19  133442  Zooming Out With Full Hand\n",
      "(3640, 2)\n",
      "       id                     labels\n",
      "0    9223                   Thumb Up\n",
      "2   42920               Swiping Left\n",
      "3  106485                 Thumb Down\n",
      "6   35341  Zooming In With Full Hand\n",
      "7   94928              Swiping Right\n",
      "Csvs done\n"
     ]
    },
    {
     "name": "stderr",
     "output_type": "stream",
     "text": [
      "/home/mca/anaconda3/envs/dse/lib/python3.8/site-packages/sklearn/preprocessing/_encoders.py:975: FutureWarning: `sparse` was renamed to `sparse_output` in version 1.2 and will be removed in 1.4. `sparse_output` is ignored unless you leave `sparse` to its default value.\n",
      "  warnings.warn(\n"
     ]
    }
   ],
   "source": [
    "gesture_list = ['Swiping Right','Swiping Left','Thumb Up','Thumb Down','No gesture','Zooming In With Full Hand','Zooming Out With Full Hand']\n",
    "\n",
    "#train\n",
    "file_prefix = \"new_jester_3DCNN\"\n",
    "df = pd.read_csv('./annotations/jester-v1-train.csv',header=None,names=['id','labels'])\n",
    "df = df[df['labels'].isin(gesture_list)]\n",
    "df.to_csv('{}_train.csv'.format(file_prefix),sep=';',index=False)\n",
    "# pd.read_csv('jester-v1-8classes_train.csv',sep=\";\").head()\n",
    "print(df.shape)\n",
    "print(df.head())\n",
    "#val\n",
    "df = pd.read_csv('./annotations/jester-v1-validation.csv',sep=';',header=None,names=['id','labels'])\n",
    "df = df[df['labels'].isin(gesture_list)]\n",
    "df.to_csv('{}_val.csv'.format(file_prefix),sep=';',index=False)\n",
    "print(df.shape)\n",
    "print(df.head())\n",
    "\n",
    "print('Csvs done')\n",
    "\n",
    "class DataGenerator(tf.keras.utils.Sequence):\n",
    "    def __init__(self, file_path, batch_size=2, image_dim=(256,256), frames_count=36, n_channels=1, base_dir='./20bn-jester-v1/', n_classes=27,validation=False):\n",
    "        self.image_dim = image_dim\n",
    "        self.batch_size = batch_size\n",
    "        self.n_channels = n_channels\n",
    "        self.n_classes = n_classes\n",
    "        self.shuffle = True \n",
    "        self.frames_count = frames_count\n",
    "        self.df = pd.read_csv(file_path,sep=\";\")\n",
    "        self.df.id = self.df.id.map(str)\n",
    "        if \"train\" in file_path:\n",
    "            self.encoder = OneHotEncoder(sparse=False)\n",
    "            self.encoder.fit(self.df.labels.values[:,None])\n",
    "            joblib.dump(self.encoder,\"{}_encoder_joblib.joblib\".format('_'.join(file_path.split('_')[:-1])))\n",
    "            np.save(\"encoder_classes_{}_npy.npy\".format(n_classes),self.encoder.categories_)\n",
    "        else:\n",
    "            self.encoder = joblib.load(\"{}_encoder_joblib.joblib\".format('_'.join(file_path.split('_')[:-1])))\n",
    "        self.base_dir = base_dir\n",
    "        self.on_epoch_end()\n",
    "\n",
    "    def __len__(self):\n",
    "        ## Decides step_size\n",
    "        return self.df.shape[0] // self.batch_size\n",
    "\n",
    "    def __getitem__(self, index):\n",
    "        'Generate one batch of data'\n",
    "        indexes = self.indexes[index*self.batch_size:(index+1)*self.batch_size]\n",
    "        list_IDs_temp = self.df.loc[indexes,\"id\"].to_list()\n",
    "        X, y = self.__data_generation(indexes)\n",
    "        return X, y \n",
    "\n",
    "    def on_epoch_end(self):\n",
    "        'Updates indexes after each epoch'\n",
    "        self.indexes = np.arange(self.df.shape[0])\n",
    "        np.random.shuffle(self.indexes)\n",
    "\n",
    "    def __data_generation(self, indexes):\n",
    "        X = np.empty((self.batch_size,self.frames_count, *self.image_dim, self.n_channels))\n",
    "        y = np.empty((self.batch_size,1), dtype=str)\n",
    "        y = []\n",
    "        for i, ID in enumerate(indexes):\n",
    "            files_list = self.standardize_frame_count(glob(self.base_dir + self.df.loc[ID,\"id\"] + \"/*.jpg\"),self.df.loc[ID])\n",
    "            for idx,filename in enumerate(files_list):\n",
    "                X[i,idx] = tf.keras.preprocessing.image.img_to_array(tf.keras.preprocessing.image.load_img(filename,color_mode='grayscale',target_size=self.image_dim))\n",
    "            y.append(self.df.loc[ID,\"labels\"])\n",
    "        encoded = self.encoder.transform(np.array(y)[:,None])\n",
    "        return X,encoded\n",
    "        \n",
    "    def standardize_frame_count(self,files,error_check):\n",
    "        shape = len(files)\n",
    "        if shape < self.frames_count:\n",
    "            to_add = self.frames_count - shape\n",
    "            mid  = len(files)//2\n",
    "            dup = [files[mid]]*to_add\n",
    "            files = files[:mid] + dup + files[mid+1:]\n",
    "        elif shape > self.frames_count:\n",
    "            to_remove = (shape - self.frames_count)\n",
    "            to_remove = int(to_remove) if int(to_remove) == to_remove else int(to_remove) + 1\n",
    "            files = files[to_remove:]\n",
    "        return files\n",
    "    \n",
    "params = {'batch_size': 56,\n",
    "          'n_classes': len(gesture_list),\n",
    "          'n_channels': 3,\n",
    "          'image_dim': (32,32)\n",
    "          }\n",
    "\n",
    "# Generators\n",
    "training_generator = DataGenerator(file_path=\"{}_train.csv\".format(file_prefix),**params)\n",
    "validation_generator = DataGenerator(file_path=\"{}_val.csv\".format(file_prefix),**params)\n"
   ]
  },
  {
   "cell_type": "code",
   "execution_count": 5,
   "id": "191712c8-4738-444e-9e47-f99b9570b459",
   "metadata": {},
   "outputs": [],
   "source": [
    "from tensorflow.keras.models import Sequential\n",
    "from tensorflow.keras.optimizers import SGD\n",
    "from tensorflow.keras.layers import Conv3D, BatchNormalization, MaxPool3D, Dense, Flatten, Dropout, ConvLSTM2D, LSTM\n",
    "from tensorflow.keras.models import model_from_json\n",
    "#from keras.optimizers import SGD\n",
    "from tensorflow.keras.losses import CategoricalCrossentropy"
   ]
  },
  {
   "cell_type": "code",
   "execution_count": 6,
   "id": "e9a72375-bc06-4b27-9093-dabbd99f69c4",
   "metadata": {},
   "outputs": [
    {
     "name": "stdout",
     "output_type": "stream",
     "text": [
      "INFO:tensorflow:Mixed precision compatibility check (mixed_float16): OK\n",
      "Your GPU will likely run quickly with dtype policy mixed_float16 as it has compute capability of at least 7.0. Your GPU: NVIDIA GeForce GTX 1660 Ti, compute capability 7.5\n"
     ]
    },
    {
     "name": "stderr",
     "output_type": "stream",
     "text": [
      "2024-10-16 15:41:08.198520: I tensorflow/compiler/xla/stream_executor/cuda/cuda_gpu_executor.cc:995] successful NUMA node read from SysFS had negative value (-1), but there must be at least one NUMA node, so returning NUMA node zero. See more at https://github.com/torvalds/linux/blob/v6.0/Documentation/ABI/testing/sysfs-bus-pci#L344-L355\n",
      "2024-10-16 15:41:08.217804: I tensorflow/compiler/xla/stream_executor/cuda/cuda_gpu_executor.cc:995] successful NUMA node read from SysFS had negative value (-1), but there must be at least one NUMA node, so returning NUMA node zero. See more at https://github.com/torvalds/linux/blob/v6.0/Documentation/ABI/testing/sysfs-bus-pci#L344-L355\n",
      "2024-10-16 15:41:08.217984: I tensorflow/compiler/xla/stream_executor/cuda/cuda_gpu_executor.cc:995] successful NUMA node read from SysFS had negative value (-1), but there must be at least one NUMA node, so returning NUMA node zero. See more at https://github.com/torvalds/linux/blob/v6.0/Documentation/ABI/testing/sysfs-bus-pci#L344-L355\n",
      "2024-10-16 15:41:08.218837: I tensorflow/compiler/xla/stream_executor/cuda/cuda_gpu_executor.cc:995] successful NUMA node read from SysFS had negative value (-1), but there must be at least one NUMA node, so returning NUMA node zero. See more at https://github.com/torvalds/linux/blob/v6.0/Documentation/ABI/testing/sysfs-bus-pci#L344-L355\n"
     ]
    }
   ],
   "source": [
    "from tensorflow.keras import mixed_precision\n",
    "mixed_precision.set_global_policy('mixed_float16')"
   ]
  },
  {
   "cell_type": "code",
   "execution_count": 7,
   "id": "eac34c13-aaf0-4a10-a88e-c61a68c4a5f6",
   "metadata": {},
   "outputs": [],
   "source": [
    "input_shape = (36, 32, 32, 3)"
   ]
  },
  {
   "cell_type": "markdown",
   "id": "04045dcc",
   "metadata": {},
   "source": [
    "ELU(x)={ \n",
    "x if x>0\n",
    "α(e \n",
    "x\n",
    " −1)\n",
    "if x≤0\n",
    "}\n",
    "\n",
    "For positive inputs, the ELU behaves like the identity function (i.e., ELU(x) = x), similar to ReLU.\n",
    "For negative inputs, ELU produces a smooth exponential curve. This makes it differentiable across the entire domain, unlike ReLU which has a discontinuity at zero.\n",
    "\n",
    "Avoids \"dead neurons\": Unlike ReLU, which can become inactive (outputting zero) for all inputs after a certain point (known as the \"dying ReLU problem\"), ELU has non-zero output for negative inputs, avoiding dead neurons.\n"
   ]
  },
  {
   "cell_type": "code",
   "execution_count": 8,
   "id": "cba56eb2-1fd3-49ad-9aaf-ba1d25632418",
   "metadata": {},
   "outputs": [
    {
     "name": "stderr",
     "output_type": "stream",
     "text": [
      "2024-10-16 15:41:10.531782: I tensorflow/compiler/xla/stream_executor/cuda/cuda_gpu_executor.cc:995] successful NUMA node read from SysFS had negative value (-1), but there must be at least one NUMA node, so returning NUMA node zero. See more at https://github.com/torvalds/linux/blob/v6.0/Documentation/ABI/testing/sysfs-bus-pci#L344-L355\n",
      "2024-10-16 15:41:10.531981: I tensorflow/compiler/xla/stream_executor/cuda/cuda_gpu_executor.cc:995] successful NUMA node read from SysFS had negative value (-1), but there must be at least one NUMA node, so returning NUMA node zero. See more at https://github.com/torvalds/linux/blob/v6.0/Documentation/ABI/testing/sysfs-bus-pci#L344-L355\n",
      "2024-10-16 15:41:10.532109: I tensorflow/compiler/xla/stream_executor/cuda/cuda_gpu_executor.cc:995] successful NUMA node read from SysFS had negative value (-1), but there must be at least one NUMA node, so returning NUMA node zero. See more at https://github.com/torvalds/linux/blob/v6.0/Documentation/ABI/testing/sysfs-bus-pci#L344-L355\n",
      "2024-10-16 15:41:10.942863: I tensorflow/compiler/xla/stream_executor/cuda/cuda_gpu_executor.cc:995] successful NUMA node read from SysFS had negative value (-1), but there must be at least one NUMA node, so returning NUMA node zero. See more at https://github.com/torvalds/linux/blob/v6.0/Documentation/ABI/testing/sysfs-bus-pci#L344-L355\n",
      "2024-10-16 15:41:10.943024: I tensorflow/compiler/xla/stream_executor/cuda/cuda_gpu_executor.cc:995] successful NUMA node read from SysFS had negative value (-1), but there must be at least one NUMA node, so returning NUMA node zero. See more at https://github.com/torvalds/linux/blob/v6.0/Documentation/ABI/testing/sysfs-bus-pci#L344-L355\n",
      "2024-10-16 15:41:10.943111: I tensorflow/compiler/xla/stream_executor/cuda/cuda_gpu_executor.cc:995] successful NUMA node read from SysFS had negative value (-1), but there must be at least one NUMA node, so returning NUMA node zero. See more at https://github.com/torvalds/linux/blob/v6.0/Documentation/ABI/testing/sysfs-bus-pci#L344-L355\n",
      "2024-10-16 15:41:10.943188: I tensorflow/core/common_runtime/gpu/gpu_device.cc:1639] Created device /job:localhost/replica:0/task:0/device:GPU:0 with 4349 MB memory:  -> device: 0, name: NVIDIA GeForce GTX 1660 Ti, pci bus id: 0000:01:00.0, compute capability: 7.5\n"
     ]
    },
    {
     "name": "stdout",
     "output_type": "stream",
     "text": [
      "Epoch 1/20\n"
     ]
    },
    {
     "name": "stderr",
     "output_type": "stream",
     "text": [
      "/home/mca/anaconda3/envs/dse/lib/python3.8/site-packages/keras/src/backend.py:5562: UserWarning: \"`categorical_crossentropy` received `from_logits=True`, but the `output` argument was produced by a Softmax activation and thus does not represent logits. Was this intended?\n",
      "  output, from_logits = _get_logits(\n",
      "2024-10-16 15:41:12.922000: I tensorflow/compiler/xla/stream_executor/cuda/cuda_dnn.cc:432] Loaded cuDNN version 8600\n"
     ]
    },
    {
     "name": "stdout",
     "output_type": "stream",
     "text": [
      "  1/532 [..............................] - ETA: 9:18:16 - loss: 3.1543 - accuracy: 0.1250"
     ]
    },
    {
     "name": "stderr",
     "output_type": "stream",
     "text": [
      "2024-10-16 15:42:14.832523: I tensorflow/compiler/xla/service/service.cc:168] XLA service 0x1f3a9170 initialized for platform CUDA (this does not guarantee that XLA will be used). Devices:\n",
      "2024-10-16 15:42:14.832545: I tensorflow/compiler/xla/service/service.cc:176]   StreamExecutor device (0): NVIDIA GeForce GTX 1660 Ti, Compute Capability 7.5\n",
      "2024-10-16 15:42:14.872281: I ./tensorflow/compiler/jit/device_compiler.h:186] Compiled cluster using XLA!  This line is logged at most once for the lifetime of the process.\n"
     ]
    },
    {
     "name": "stdout",
     "output_type": "stream",
     "text": [
      "532/532 [==============================] - ETA: 0s - loss: 1.6253 - accuracy: 0.4626"
     ]
    },
    {
     "name": "stderr",
     "output_type": "stream",
     "text": [
      "/home/mca/anaconda3/envs/dse/lib/python3.8/site-packages/keras/src/backend.py:5562: UserWarning: \"`categorical_crossentropy` received `from_logits=True`, but the `output` argument was produced by a Softmax activation and thus does not represent logits. Was this intended?\n",
      "  output, from_logits = _get_logits(\n"
     ]
    },
    {
     "name": "stdout",
     "output_type": "stream",
     "text": [
      "532/532 [==============================] - 241s 335ms/step - loss: 1.6253 - accuracy: 0.4626 - val_loss: 1.0085 - val_accuracy: 0.6233\n",
      "Epoch 2/20\n",
      "532/532 [==============================] - 174s 326ms/step - loss: 1.0285 - accuracy: 0.6343 - val_loss: 0.8243 - val_accuracy: 0.6959\n",
      "Epoch 3/20\n",
      "532/532 [==============================] - 179s 336ms/step - loss: 0.8296 - accuracy: 0.7048 - val_loss: 0.7324 - val_accuracy: 0.7427\n",
      "Epoch 4/20\n",
      "532/532 [==============================] - 178s 335ms/step - loss: 0.7107 - accuracy: 0.7445 - val_loss: 0.6370 - val_accuracy: 0.7796\n",
      "Epoch 5/20\n",
      "532/532 [==============================] - 177s 332ms/step - loss: 0.6225 - accuracy: 0.7829 - val_loss: 0.5476 - val_accuracy: 0.8047\n",
      "Epoch 6/20\n",
      "532/532 [==============================] - 180s 338ms/step - loss: 0.5529 - accuracy: 0.8047 - val_loss: 0.5451 - val_accuracy: 0.8069\n",
      "Epoch 7/20\n",
      "532/532 [==============================] - 180s 339ms/step - loss: 0.5007 - accuracy: 0.8231 - val_loss: 0.5906 - val_accuracy: 0.7935\n",
      "Epoch 8/20\n",
      "532/532 [==============================] - 174s 327ms/step - loss: 0.4491 - accuracy: 0.8429 - val_loss: 0.6292 - val_accuracy: 0.7785\n",
      "Epoch 9/20\n",
      "532/532 [==============================] - 185s 347ms/step - loss: 0.4060 - accuracy: 0.8581 - val_loss: 0.4981 - val_accuracy: 0.8259\n",
      "Epoch 10/20\n",
      "532/532 [==============================] - 181s 340ms/step - loss: 0.3622 - accuracy: 0.8733 - val_loss: 0.5035 - val_accuracy: 0.8326\n",
      "Epoch 11/20\n",
      "532/532 [==============================] - 181s 339ms/step - loss: 0.3316 - accuracy: 0.8858 - val_loss: 0.5009 - val_accuracy: 0.8354\n",
      "Epoch 12/20\n",
      "532/532 [==============================] - 179s 337ms/step - loss: 0.2990 - accuracy: 0.8953 - val_loss: 0.5336 - val_accuracy: 0.8265\n",
      "Epoch 13/20\n",
      "532/532 [==============================] - 181s 340ms/step - loss: 0.2650 - accuracy: 0.9114 - val_loss: nan - val_accuracy: 0.8209\n",
      "Epoch 14/20\n",
      "532/532 [==============================] - 175s 328ms/step - loss: 0.2451 - accuracy: 0.9164 - val_loss: 0.5020 - val_accuracy: 0.8287\n",
      "Epoch 15/20\n",
      "532/532 [==============================] - 185s 348ms/step - loss: 0.2158 - accuracy: 0.9289 - val_loss: 0.5391 - val_accuracy: 0.8326\n",
      "Epoch 16/20\n",
      "532/532 [==============================] - 180s 337ms/step - loss: 0.1927 - accuracy: 0.9373 - val_loss: 0.4919 - val_accuracy: 0.8415\n",
      "Epoch 17/20\n",
      "532/532 [==============================] - 180s 338ms/step - loss: 0.1706 - accuracy: 0.9457 - val_loss: 0.4905 - val_accuracy: 0.8471\n",
      "Epoch 18/20\n",
      "532/532 [==============================] - 177s 333ms/step - loss: 0.1513 - accuracy: 0.9525 - val_loss: 0.5015 - val_accuracy: 0.8477\n",
      "Epoch 19/20\n",
      "532/532 [==============================] - 177s 333ms/step - loss: 0.1329 - accuracy: 0.9603 - val_loss: 0.5349 - val_accuracy: 0.8410\n",
      "Epoch 20/20\n",
      "532/532 [==============================] - 178s 334ms/step - loss: 0.1210 - accuracy: 0.9642 - val_loss: 0.6497 - val_accuracy: 0.8097\n"
     ]
    }
   ],
   "source": [
    "def build_model(n_classes=7):\n",
    "    momentum = 0.99\n",
    "    \n",
    "    model = tf.keras.Sequential()\n",
    "    model.add(Conv3D(64,kernel_size=3,strides=1,padding='valid',activation='elu',input_shape=input_shape))\n",
    "    model.add(BatchNormalization(momentum=momentum))\n",
    "    model.add(MaxPool3D(pool_size=(1, 2, 2), strides=(1,2,2),padding='same'))\n",
    "\n",
    "    model.add(Conv3D(128,kernel_size=3,strides=1,padding='valid',activation='elu'))\n",
    "    model.add(BatchNormalization(momentum=momentum))\n",
    "    model.add(MaxPool3D(pool_size=(2, 2, 2), strides=(2,2,2),padding='same'))\n",
    "\n",
    "    model.add(Conv3D(256,kernel_size=3,strides=1,padding='valid',activation='elu'))\n",
    "    model.add(BatchNormalization(momentum=momentum))\n",
    "    model.add(MaxPool3D(pool_size=(2, 2, 2), strides=(2,2,2),padding='same'))\n",
    "\n",
    "    model.add(Conv3D(256,kernel_size=3,strides=1,padding='valid',activation='elu'))\n",
    "    model.add(BatchNormalization(momentum=momentum))\n",
    "    model.add(MaxPool3D(pool_size=(2, 2, 2), strides=(2,2,2),padding='same'))\n",
    "    \n",
    "    model.add(Flatten())\n",
    "\n",
    "    model.add(Dense(512,activation='elu'))\n",
    "    model.add(Dropout(0.5))\n",
    "    model.add(Dense(n_classes,activation='softmax'))\n",
    "    #batch_size,n_classes\n",
    "    return model\n",
    "\n",
    "model = build_model(n_classes=len(gesture_list))\n",
    "optimizer = SGD(0.001)\n",
    "model.compile(\n",
    "    optimizer=optimizer,\n",
    "    loss=CategoricalCrossentropy(from_logits=True),\n",
    "    metrics=['accuracy']\n",
    ")\n",
    "\n",
    "h=model.fit(training_generator,validation_data=validation_generator,validation_steps=32,epochs=20,verbose=1)\n",
    "\n",
    "def save_model(model,file_path):\n",
    "    model_json = model.to_json()\n",
    "    with open(file_path+'.json', \"w\") as json_file:\n",
    "        json_file.write(model_json)\n",
    "    model.save_weights(file_path+'.h5')\n",
    "save_model(model,'{}_model'.format(file_prefix))\n",
    "\n"
   ]
  },
  {
   "cell_type": "markdown",
   "id": "ed0ca45f-8d8d-4783-b78c-0153c4397fc6",
   "metadata": {},
   "source": [
    "### issue fixed\n",
    "ISSUE: `val loss` was becoming `nan`, after 13th epoch.\n",
    "\n",
    "- Possible fixes:\n",
    "a small number (like 1e-8) to your output probability.\n",
    "u can either make a customized loss fuction with an added epsilon value, or `loss=CategoricalCrossentropy(from_logits=True)`\n",
    "\n",
    "- (Because log(0) is negative infinity, when your model trained enough the output distribution will be very skewed, for instance say I'm doing a 4 class output, in the beginning my probability looks like\n",
    "\n",
    "0.25 0.25 0.25 0.25\n",
    "but toward the end the probability will probably look like\n",
    "\n",
    "1.0 0 0 0\n",
    "And you take a cross entropy of this distribution everything will explode. The fix is to artifitially add a small number to all the terms to prevent this. The gradients cant be computed, divide by 0 err may occur, keras makes the value nan in such cases.\n"
   ]
  },
  {
   "cell_type": "code",
   "execution_count": 10,
   "id": "6a88001d-3fd0-4ef0-83b9-7258a4b6f8f1",
   "metadata": {},
   "outputs": [
    {
     "data": {
      "image/png": "[encoded data removed]",
      "text/plain": [
       "<Figure size 1200x500 with 2 Axes>"
      ]
     },
     "metadata": {},
     "output_type": "display_data"
    }
   ],
   "source": [
    "import matplotlib.pyplot as plt  \n",
    "\n",
    "# Plot training & validation accuracy values\n",
    "plt.figure(figsize=(12, 5))\n",
    "plt.subplot(1, 2, 1)\n",
    "plt.plot(h.history['accuracy'])\n",
    "plt.plot(h.history['val_accuracy'])\n",
    "plt.title('Model accuracy')\n",
    "plt.xlabel('Epoch')\n",
    "plt.ylabel('Accuracy')\n",
    "plt.legend(['Train', 'Validation'])\n",
    "\n",
    "# Plot training & validation loss values\n",
    "plt.subplot(1, 2, 2)\n",
    "plt.plot(h.history['loss'])\n",
    "plt.plot(h.history['val_loss'])\n",
    "plt.title('Model loss')\n",
    "plt.xlabel('Epoch')\n",
    "plt.ylabel('Loss')\n",
    "plt.legend(['Train', 'Validation'])\n",
    "\n",
    "plt.tight_layout()\n",
    "plt.show()\n"
   ]
  },
  {
   "cell_type": "code",
   "execution_count": 13,
   "id": "c49bba26-e556-4c82-8688-5ebde46b74fe",
   "metadata": {},
   "outputs": [
    {
     "name": "stdout",
     "output_type": "stream",
     "text": [
      "65/65 [==============================] - 20s 304ms/step - loss: 0.6116 - accuracy: 0.8170\n"
     ]
    },
    {
     "data": {
      "text/plain": [
       "[0.6115515828132629, 0.8170329928398132]"
      ]
     },
     "execution_count": 13,
     "metadata": {},
     "output_type": "execute_result"
    }
   ],
   "source": [
    "model.evaluate(validation_generator)"
   ]
  },
  {
   "cell_type": "code",
   "execution_count": null,
   "id": "0be8ca34-b811-4c3b-a106-bdfaa2f7e7a3",
   "metadata": {},
   "outputs": [],
   "source": []
  }
 ],
 "metadata": {
  "kernelspec": {
   "display_name": "Python 3 (ipykernel)",
   "language": "python",
   "name": "python3"
  },
  "language_info": {
   "codemirror_mode": {
    "name": "ipython",
    "version": 3
   },
   "file_extension": ".py",
   "mimetype": "text/x-python",
   "name": "python",
   "nbconvert_exporter": "python",
   "pygments_lexer": "ipython3",
   "version": "3.11.4"
  }
 },
 "nbformat": 4,
 "nbformat_minor": 5
}
